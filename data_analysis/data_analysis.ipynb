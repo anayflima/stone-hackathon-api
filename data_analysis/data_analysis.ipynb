{
 "cells": [
  {
   "cell_type": "code",
   "execution_count": 2,
   "id": "a6faaa64-1b32-4d0b-916d-f19682c44ede",
   "metadata": {},
   "outputs": [
    {
     "name": "stdout",
     "output_type": "stream",
     "text": [
      "Requirement already satisfied: Vizro in c:\\users\\megdo\\anaconda3\\lib\\site-packages (0.1.20)\n",
      "Requirement already satisfied: dash-ag-grid>=31.0.0 in c:\\users\\megdo\\anaconda3\\lib\\site-packages (from Vizro) (31.2.0)\n",
      "Requirement already satisfied: dash-bootstrap-components in c:\\users\\megdo\\anaconda3\\lib\\site-packages (from Vizro) (1.6.0)\n",
      "Requirement already satisfied: dash-mantine-components<0.13.0 in c:\\users\\megdo\\anaconda3\\lib\\site-packages (from Vizro) (0.12.1)\n",
      "Requirement already satisfied: dash>=2.17.1 in c:\\users\\megdo\\anaconda3\\lib\\site-packages (from Vizro) (2.17.1)\n",
      "Requirement already satisfied: flask-caching>=2 in c:\\users\\megdo\\anaconda3\\lib\\site-packages (from Vizro) (2.3.0)\n",
      "Requirement already satisfied: numpy>=1.22.2 in c:\\users\\megdo\\anaconda3\\lib\\site-packages (from Vizro) (1.26.4)\n",
      "Requirement already satisfied: pandas in c:\\users\\megdo\\anaconda3\\lib\\site-packages (from Vizro) (2.2.2)\n",
      "Requirement already satisfied: pydantic>=1.10.13 in c:\\users\\megdo\\anaconda3\\lib\\site-packages (from Vizro) (1.10.13)\n",
      "Requirement already satisfied: ruff in c:\\users\\megdo\\anaconda3\\lib\\site-packages (from Vizro) (0.6.2)\n",
      "Requirement already satisfied: setuptools>=65.5.1 in c:\\users\\megdo\\anaconda3\\lib\\site-packages (from Vizro) (69.5.1)\n",
      "Requirement already satisfied: werkzeug>=3.0.1 in c:\\users\\megdo\\anaconda3\\lib\\site-packages (from Vizro) (3.0.3)\n",
      "Requirement already satisfied: wrapt>=1 in c:\\users\\megdo\\anaconda3\\lib\\site-packages (from Vizro) (1.14.1)\n",
      "Requirement already satisfied: Flask<3.1,>=1.0.4 in c:\\users\\megdo\\anaconda3\\lib\\site-packages (from dash>=2.17.1->Vizro) (3.0.3)\n",
      "Requirement already satisfied: plotly>=5.0.0 in c:\\users\\megdo\\anaconda3\\lib\\site-packages (from dash>=2.17.1->Vizro) (5.22.0)\n",
      "Requirement already satisfied: dash-html-components==2.0.0 in c:\\users\\megdo\\anaconda3\\lib\\site-packages (from dash>=2.17.1->Vizro) (2.0.0)\n",
      "Requirement already satisfied: dash-core-components==2.0.0 in c:\\users\\megdo\\anaconda3\\lib\\site-packages (from dash>=2.17.1->Vizro) (2.0.0)\n",
      "Requirement already satisfied: dash-table==5.0.0 in c:\\users\\megdo\\anaconda3\\lib\\site-packages (from dash>=2.17.1->Vizro) (5.0.0)\n",
      "Requirement already satisfied: importlib-metadata in c:\\users\\megdo\\anaconda3\\lib\\site-packages (from dash>=2.17.1->Vizro) (7.0.1)\n",
      "Requirement already satisfied: typing-extensions>=4.1.1 in c:\\users\\megdo\\anaconda3\\lib\\site-packages (from dash>=2.17.1->Vizro) (4.11.0)\n",
      "Requirement already satisfied: requests in c:\\users\\megdo\\anaconda3\\lib\\site-packages (from dash>=2.17.1->Vizro) (2.32.2)\n",
      "Requirement already satisfied: retrying in c:\\users\\megdo\\anaconda3\\lib\\site-packages (from dash>=2.17.1->Vizro) (1.3.4)\n",
      "Requirement already satisfied: nest-asyncio in c:\\users\\megdo\\anaconda3\\lib\\site-packages (from dash>=2.17.1->Vizro) (1.6.0)\n",
      "Requirement already satisfied: cachelib<0.10.0,>=0.9.0 in c:\\users\\megdo\\anaconda3\\lib\\site-packages (from flask-caching>=2->Vizro) (0.9.0)\n",
      "Requirement already satisfied: MarkupSafe>=2.1.1 in c:\\users\\megdo\\anaconda3\\lib\\site-packages (from werkzeug>=3.0.1->Vizro) (2.1.3)\n",
      "Requirement already satisfied: python-dateutil>=2.8.2 in c:\\users\\megdo\\anaconda3\\lib\\site-packages (from pandas->Vizro) (2.9.0.post0)\n",
      "Requirement already satisfied: pytz>=2020.1 in c:\\users\\megdo\\anaconda3\\lib\\site-packages (from pandas->Vizro) (2024.1)\n",
      "Requirement already satisfied: tzdata>=2022.7 in c:\\users\\megdo\\anaconda3\\lib\\site-packages (from pandas->Vizro) (2023.3)\n",
      "Requirement already satisfied: Jinja2>=3.1.2 in c:\\users\\megdo\\anaconda3\\lib\\site-packages (from Flask<3.1,>=1.0.4->dash>=2.17.1->Vizro) (3.1.4)\n",
      "Requirement already satisfied: itsdangerous>=2.1.2 in c:\\users\\megdo\\anaconda3\\lib\\site-packages (from Flask<3.1,>=1.0.4->dash>=2.17.1->Vizro) (2.2.0)\n",
      "Requirement already satisfied: click>=8.1.3 in c:\\users\\megdo\\anaconda3\\lib\\site-packages (from Flask<3.1,>=1.0.4->dash>=2.17.1->Vizro) (8.1.7)\n",
      "Requirement already satisfied: blinker>=1.6.2 in c:\\users\\megdo\\anaconda3\\lib\\site-packages (from Flask<3.1,>=1.0.4->dash>=2.17.1->Vizro) (1.6.2)\n",
      "Requirement already satisfied: tenacity>=6.2.0 in c:\\users\\megdo\\anaconda3\\lib\\site-packages (from plotly>=5.0.0->dash>=2.17.1->Vizro) (8.2.2)\n",
      "Requirement already satisfied: packaging in c:\\users\\megdo\\anaconda3\\lib\\site-packages (from plotly>=5.0.0->dash>=2.17.1->Vizro) (23.2)\n",
      "Requirement already satisfied: six>=1.5 in c:\\users\\megdo\\anaconda3\\lib\\site-packages (from python-dateutil>=2.8.2->pandas->Vizro) (1.16.0)\n",
      "Requirement already satisfied: zipp>=0.5 in c:\\users\\megdo\\anaconda3\\lib\\site-packages (from importlib-metadata->dash>=2.17.1->Vizro) (3.17.0)\n",
      "Requirement already satisfied: charset-normalizer<4,>=2 in c:\\users\\megdo\\anaconda3\\lib\\site-packages (from requests->dash>=2.17.1->Vizro) (2.0.4)\n",
      "Requirement already satisfied: idna<4,>=2.5 in c:\\users\\megdo\\anaconda3\\lib\\site-packages (from requests->dash>=2.17.1->Vizro) (3.7)\n",
      "Requirement already satisfied: urllib3<3,>=1.21.1 in c:\\users\\megdo\\anaconda3\\lib\\site-packages (from requests->dash>=2.17.1->Vizro) (2.2.2)\n",
      "Requirement already satisfied: certifi>=2017.4.17 in c:\\users\\megdo\\anaconda3\\lib\\site-packages (from requests->dash>=2.17.1->Vizro) (2024.6.2)\n",
      "Requirement already satisfied: colorama in c:\\users\\megdo\\anaconda3\\lib\\site-packages (from click>=8.1.3->Flask<3.1,>=1.0.4->dash>=2.17.1->Vizro) (0.4.6)\n"
     ]
    }
   ],
   "source": [
    "!pip install Vizro \n",
    "!pip install openpyxl"
   ]
  },
  {
   "cell_type": "code",
   "execution_count": null,
   "id": "80b927cc-7d15-40cc-bf5f-c280c22eddf3",
   "metadata": {},
   "outputs": [],
   "source": []
  },
  {
   "cell_type": "code",
   "execution_count": 6,
   "id": "2fa618f3-2ddf-4a6c-9a55-e80cffcbf366",
   "metadata": {},
   "outputs": [],
   "source": [
    "import pandas as pd\n",
    "import numpy as np\n",
    "import vizro.plotly.express as px\n",
    "\n",
    "import datetime\n",
    "\n",
    "from vizro import Vizro\n",
    "from vizro.tables import dash_ag_grid\n",
    "import vizro.models as vm\n",
    "from pathlib import Path\n",
    "from vizro.actions import filter_interaction\n",
    "from vizro.models.types import capture\n",
    "\n",
    "#import warnings\n",
    "#with warnings.catch_warnings():\n",
    "#warnings.simplefilter(action='ignore', category=FutureWarning)"
   ]
  },
  {
   "cell_type": "code",
   "execution_count": 8,
   "id": "6fc6a018-09d1-43b2-8dbf-fce1d7c2200c",
   "metadata": {},
   "outputs": [],
   "source": [
    "day = pd.read_excel(r\"C:\\Users\\megdo\\Desktop\\Stone 24\\day.xlsx\")\n",
    "week = pd.read_excel(r\"C:\\Users\\megdo\\Desktop\\Stone 24\\week.xlsx\")\n",
    "cum_day = pd.read_excel(r\"C:\\Users\\megdo\\Desktop\\Stone 24\\cum_day.xlsx\")\n",
    "inflow_day = pd.read_excel(r\"C:\\Users\\megdo\\Desktop\\Stone 24\\inflow_day.xlsx\")\n",
    "outflow_day = pd.read_excel(r\"C:\\Users\\megdo\\Desktop\\Stone 24\\outflow_day.xlsx\")\n",
    "net_day = pd.read_excel(r\"C:\\Users\\megdo\\Desktop\\Stone 24\\net_day.xlsx\")\n",
    "cum_week = pd.read_excel(r\"C:\\Users\\megdo\\Desktop\\Stone 24\\cum_week.xlsx\")\n",
    "inflow_week = pd.read_excel(r\"C:\\Users\\megdo\\Desktop\\Stone 24\\inflow_week.xlsx\")\n",
    "outflow_week = pd.read_excel(r\"C:\\Users\\megdo\\Desktop\\Stone 24\\outflow_week.xlsx\")\n",
    "net_week = pd.read_excel(r\"C:\\Users\\megdo\\Desktop\\Stone 24\\net_week.xlsx\")\n",
    "breakdown = pd.read_excel(r\"C:\\Users\\megdo\\Desktop\\Stone 24\\breakdown.xlsx\")\n",
    "customers = pd.read_excel(r\"C:\\Users\\megdo\\Desktop\\Stone 24\\customers.xlsx\")\n",
    "monthly_growth_empresa = pd.read_excel(r\"C:\\Users\\megdo\\Desktop\\Stone 24\\monthly_growth_empresa.xlsx\")\n",
    "media_scores = pd.read_excel(r\"C:\\Users\\megdo\\Desktop\\Stone 24\\media_scores.xlsx\")\n"
   ]
  },
  {
   "cell_type": "code",
   "execution_count": 9,
   "id": "b0483f48-be6e-45eb-81de-3e0b63c1f953",
   "metadata": {},
   "outputs": [
    {
     "data": {
      "text/html": [
       "\n",
       "        <iframe\n",
       "            width=\"100%\"\n",
       "            height=\"650\"\n",
       "            src=\"http://127.0.0.1:8050/\"\n",
       "            frameborder=\"0\"\n",
       "            allowfullscreen\n",
       "            \n",
       "        ></iframe>\n",
       "        "
      ],
      "text/plain": [
       "<IPython.lib.display.IFrame at 0x1a36f166290>"
      ]
     },
     "metadata": {},
     "output_type": "display_data"
    }
   ],
   "source": [
    "\n",
    "page = vm.Page(\n",
    "    title=\"Strats\",\n",
    "    layout=vm.Layout(grid=[[0, 0],[1,2]]),\n",
    "    components=[\n",
    "        vm.Graph(id=\"cumsum\", figure=px.line(cum_day, x=\"date_time\", y=\"value\",color=\"id_var\",custom_data=[\"sector\",\"document_id\"])),\n",
    "        vm.Graph(id=\"in\", figure=px.line(inflow_day, x=\"date_time\", y=\"in\",color='document_id',custom_data=[\"sector\",\"document_id\"])),\n",
    "        vm.Graph(id=\"out\", figure=px.line(outflow_day, x=\"date_time\", y=\"out\",color='document_id',custom_data=[\"sector\",\"document_id\"])),\n",
    "],\n",
    "    controls=[\n",
    "        vm.Filter(column=\"sector\", selector=vm.Dropdown(value=[\"ALL\"])),\n",
    "        vm.Filter(column=\"document_id\", selector=vm.Dropdown(value=[\"ALL\"])),\n",
    "        vm.Filter(column=\"date_time\"),\n",
    "    ],\n",
    ")\n",
    "\n",
    "dashboard = vm.Dashboard(pages=[page])\n",
    "\n",
    "Vizro().build(dashboard).run()"
   ]
  },
  {
   "cell_type": "code",
   "execution_count": null,
   "id": "1cea3c25-da1d-4d2d-8b72-2464d6f66938",
   "metadata": {},
   "outputs": [],
   "source": [
    "\n",
    "liquidez = vm.Page(\n",
    "    title=\"Strats\",\n",
    "    layout=vm.Layout(grid=[[0, 0],[1,2]]),\n",
    "    components=[\n",
    "        vm.Graph(id=\"cumsum\", figure=px.line(cum_day, x=\"date_time\", y=\"value\",color=\"id_var\",custom_data=[\"sector\",\"document_id\"])),\n",
    "        vm.Graph(id=\"in\", figure=px.line(inflow_day, x=\"date_time\", y=\"in\",color='document_id',custom_data=[\"sector\",\"document_id\"])),\n",
    "        vm.Graph(id=\"out\", figure=px.line(outflow_day, x=\"date_time\", y=\"out\",color='document_id',custom_data=[\"sector\",\"document_id\"])),\n",
    "],\n",
    "    controls=[\n",
    "        vm.Filter(column=\"sector\", selector=vm.Dropdown(value=[\"ALL\"])),\n",
    "        vm.Filter(column=\"document_id\", selector=vm.Dropdown(value=[\"ALL\"])),\n",
    "        vm.Filter(column=\"date_time\"),\n",
    "    ],\n",
    ")\n",
    "\n",
    "receita = vm.Page(\n",
    "    title=\"Strats\",\n",
    "    layout=vm.Layout(grid=[[0, 0],[1,2]]),\n",
    "    components=[\n",
    "        vm.Graph(id=\"cumsum\", figure=px.line(cum_day, x=\"date_time\", y=\"value\",color=\"id_var\",custom_data=[\"sector\",\"document_id\"])),\n",
    "        vm.Graph(id=\"in\", figure=px.line(inflow_day, x=\"date_time\", y=\"in\",color='document_id',custom_data=[\"sector\",\"document_id\"])),\n",
    "        vm.Graph(id=\"out\", figure=px.line(outflow_day, x=\"date_time\", y=\"out\",color='document_id',custom_data=[\"sector\",\"document_id\"])),\n",
    "],\n",
    "    controls=[\n",
    "        vm.Filter(column=\"sector\", selector=vm.Dropdown(value=[\"ALL\"])),\n",
    "        vm.Filter(column=\"document_id\", selector=vm.Dropdown(value=[\"ALL\"])),\n",
    "        vm.Filter(column=\"date_time\"),\n",
    "    ],\n",
    ")\n",
    "\n",
    "clientes = vm.Page(\n",
    "    title=\"Strats\",\n",
    "    layout=vm.Layout(grid=[[0, 0],[1,2]]),\n",
    "    components=[\n",
    "        vm.Graph(id=\"cumsum\", figure=px.line(cum_day, x=\"date_time\", y=\"value\",color=\"id_var\",custom_data=[\"sector\",\"document_id\"])),\n",
    "        vm.Graph(id=\"in\", figure=px.line(inflow_day, x=\"date_time\", y=\"in\",color='document_id',custom_data=[\"sector\",\"document_id\"])),\n",
    "        vm.Graph(id=\"out\", figure=px.line(outflow_day, x=\"date_time\", y=\"out\",color='document_id',custom_data=[\"sector\",\"document_id\"])),\n",
    "],\n",
    "    controls=[\n",
    "        vm.Filter(column=\"sector\", selector=vm.Dropdown(value=[\"ALL\"])),\n",
    "        vm.Filter(column=\"document_id\", selector=vm.Dropdown(value=[\"ALL\"])),\n",
    "        vm.Filter(column=\"date_time\"),\n",
    "    ],\n",
    ")\n",
    "\n",
    "\n",
    "\n",
    "dashboard = vm.Dashboard(pages=[liquidez,receita,clientes])\n",
    "\n",
    "Vizro().build(dashboard).run()"
   ]
  }
 ],
 "metadata": {
  "kernelspec": {
   "display_name": "Python 3 (ipykernel)",
   "language": "python",
   "name": "python3"
  },
  "language_info": {
   "codemirror_mode": {
    "name": "ipython",
    "version": 3
   },
   "file_extension": ".py",
   "mimetype": "text/x-python",
   "name": "python",
   "nbconvert_exporter": "python",
   "pygments_lexer": "ipython3",
   "version": "3.11.9"
  }
 },
 "nbformat": 4,
 "nbformat_minor": 5
}
